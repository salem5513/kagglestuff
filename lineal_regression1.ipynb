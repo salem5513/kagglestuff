{
 "cells": [
  {
   "cell_type": "markdown",
   "source": [
    "## Theme\n",
    "- How to implement the model f{w,b} for linear regression with one variable"
   ],
   "metadata": {
    "collapsed": false
   }
  },
  {
   "cell_type": "markdown",
   "source": [
    "## Notation\n",
    "Here is a summary of some of the notation you will encounter.\n",
    "$a$ - scalar, non bold (скалярное значение, без жирного начертания)\n",
    "$\\mathbf{a}$ - vector, bold (вектор)\n",
    "$\\mathbf{x}$ - Training Example feature values (in this lab - Size (1000 sqft))#x_train\n",
    "$\\mathbf{y}$ - Training Example  targets (in this lab Price (1000s of dollars)) #y_train\n",
    "$x^{(i)}$, $y^{(i)}$  - I.th Train example #x_i, y_i\n",
    "m - numbers of training examples #m\n",
    "$w$ - weight - вес #w\n",
    "$b$ - parameter: bias - смещение #b\n",
    "$f_{w,b}(x^{(i)})$ - the result of the model evaluation at x(i) parametrs(w,b)\n",
    "$f_{w,b}(x^{(i)}) = wx^{(i)}+b$\n",
    "#f_wb результат оценки модели\n"
   ],
   "metadata": {
    "collapsed": false
   }
  },
  {
   "cell_type": "markdown",
   "source": [
    "NumPy, a popular library for scientific computing(вычисления)\n",
    "Matplotlib, a popular library for plotting data(визуализация)"
   ],
   "metadata": {
    "collapsed": false
   }
  },
  {
   "cell_type": "code",
   "execution_count": 4,
   "outputs": [],
   "source": [
    "import numpy as np #импортирует библиотеку NumPy и дает ей псевдоним np\n",
    "import matplotlib.pyplot as plt #импортирует подмодуль pyplot из  Matplotlib c ником plt."
   ],
   "metadata": {
    "collapsed": false,
    "ExecuteTime": {
     "end_time": "2023-08-11T18:09:11.610336Z",
     "start_time": "2023-08-11T18:09:11.588443Z"
    }
   }
  },
  {
   "cell_type": "code",
   "execution_count": 5,
   "outputs": [
    {
     "name": "stdout",
     "output_type": "stream",
     "text": [
      "x_train = [1. 2.]\n",
      "y_train = [300. 500.]\n"
     ]
    }
   ],
   "source": [
    "# x_train is the input variable (size in 1000 square feet)\n",
    "# y_train is the target (price in 1000s of dollars)\n",
    "x_train = np.array([1.0, 2.0]) #создаем np массив который содержит 2 числа(входные данные)\n",
    "y_train = np.array([300.0, 500.0]) #создаем np массив еще 2 чилса(выходные данные)\n",
    "print(f\"x_train = {x_train}\")\n",
    "print(f\"y_train = {y_train}\")"
   ],
   "metadata": {
    "collapsed": false,
    "ExecuteTime": {
     "end_time": "2023-08-11T18:09:13.554475Z",
     "start_time": "2023-08-11T18:09:13.513093Z"
    }
   }
  },
  {
   "cell_type": "markdown",
   "source": [
    "Use m для обозначения кол-ва обучающих примеров. В массивах NumPy есть параметр .shape. Вызов x_train.shape возвращает кортеж Python с записью для каждого измерения. x_train.shape[0] - это длина массива и количество примеров, как показано ниже.\n"
   ],
   "metadata": {
    "collapsed": false
   }
  },
  {
   "cell_type": "code",
   "execution_count": 6,
   "outputs": [
    {
     "name": "stdout",
     "output_type": "stream",
     "text": [
      "x_train.shape: (2,)\n",
      "Number of training examples is: 2\n"
     ]
    }
   ],
   "source": [
    "# m is the number of training examples\n",
    "print(f\"x_train.shape: {x_train.shape}\")\n",
    "# В данном случае, так как x_train - это одномерный массив, форма будет представлять кортеж с одним значением, которое будет равно длине массива (количество элементов).\n",
    "m = x_train.shape[0]\n",
    "print(f\"Number of training examples is: {m}\")"
   ],
   "metadata": {
    "collapsed": false,
    "ExecuteTime": {
     "end_time": "2023-08-11T18:09:15.321626Z",
     "start_time": "2023-08-11T18:09:15.300017Z"
    }
   }
  },
  {
   "cell_type": "markdown",
   "source": [
    "One can also use the Python `len()` function as shown below."
   ],
   "metadata": {
    "collapsed": false
   }
  },
  {
   "cell_type": "code",
   "execution_count": 8,
   "outputs": [
    {
     "name": "stdout",
     "output_type": "stream",
     "text": [
      "Number of training examples is: 2\n"
     ]
    }
   ],
   "source": [
    "# m is the number of training examples\n",
    "m = len(x_train)\n",
    "print(f\"Number of training examples is: {m}\")"
   ],
   "metadata": {
    "collapsed": false,
    "ExecuteTime": {
     "end_time": "2023-08-11T18:09:40.550979Z",
     "start_time": "2023-08-11T18:09:40.547957Z"
    }
   }
  },
  {
   "cell_type": "markdown",
   "source": [
    "You will use (x$^{(i)}$, y$^{(i)}$) to denote the $i^{th}$ training example. Since Python is zero indexed, (x$^{(0)}$, y$^{(0)}$) is (1.0, 300.0) and (x$^{(1)}$, y$^{(1)}$) is (2.0, 500.0).\n",
    "\n",
    "To access a value in a Numpy array, one indexes the array with the desired offset. For example the syntax to access location zero of `x_train` is `x_train[0]`.\n",
    "Run the next code block below to get the $i^{th}$ training example. Для доступа к значению в массиве NumPy используется индексирование массива с нужным смещением."
   ],
   "metadata": {
    "collapsed": false
   }
  },
  {
   "cell_type": "code",
   "execution_count": 13,
   "outputs": [
    {
     "name": "stdout",
     "output_type": "stream",
     "text": [
      "(x^(0), y^(0)) = (1.0, 300.0)\n"
     ]
    }
   ],
   "source": [
    "i = 0 # Change this to 1 to see (x^1, y^1)\n",
    "\n",
    "x_i = x_train[i] #cheking example i\n",
    "y_i = y_train[i]\n",
    "print(f\"(x^({i}), y^({i})) = ({x_i}, {y_i})\")"
   ],
   "metadata": {
    "collapsed": false,
    "ExecuteTime": {
     "end_time": "2023-08-11T18:12:32.411365Z",
     "start_time": "2023-08-11T18:12:32.385697Z"
    }
   }
  },
  {
   "cell_type": "markdown",
   "source": [
    "Plotting the data (построение данных(графиков))\n",
    "You can plot these two points using the `scatter()` function in the `matplotlib` library, as shown in the cell below.\n",
    "- The function arguments `marker` and `c` show the points as red crosses (the default is blue dots).\n",
    "\n",
    "You can use other functions in the `matplotlib` library to set the title and labels to display"
   ],
   "metadata": {
    "collapsed": false
   }
  },
  {
   "cell_type": "code",
   "execution_count": 18,
   "outputs": [
    {
     "data": {
      "text/plain": "<Figure size 640x480 with 1 Axes>",
      "image/png": "[encoded data removed]"
     },
     "metadata": {},
     "output_type": "display_data"
    }
   ],
   "source": [
    "# Plot the data points\n",
    "plt.scatter(x_train, y_train, marker='x', c='y')\n",
    "# Set the title\n",
    "plt.title(\"Housing Prices\")\n",
    "# Set the y-axis label\n",
    "plt.ylabel('Price (in 1000s of dollars)')\n",
    "# Set the x-axis label\n",
    "plt.xlabel('Size (1000 sqft)')\n",
    "plt.show()"
   ],
   "metadata": {
    "collapsed": false,
    "ExecuteTime": {
     "end_time": "2023-08-11T18:15:45.680924Z",
     "start_time": "2023-08-11T18:15:45.591388Z"
    }
   }
  },
  {
   "cell_type": "markdown",
   "source": [
    "\" > As described in lecture, the model function for linear regression (which is a function that maps from `x` to `y`) is represented as\n",
    "\n",
    "$$ f_{w,b}(x^{(i)}) = wx^{(i)} + b \\tag{1}$$\n",
    "\n",
    "The formula above is how you can represent straight lines - different values of $w$ and $b$ give you different straight lines on the plot.\n",
    "Формула выше представляет, как можно представить прямые линии - разные значения w и b дают вам разные прямые линии на графике.\n",
    "Let's try to get a better intuition for this through the code blocks below. Let's start with $w = 100$ and $b = 100$.\n",
    "**Note: You can come back to this cell to adjust the model's w and b parameters**"
   ],
   "metadata": {
    "collapsed": false
   }
  },
  {
   "cell_type": "code",
   "execution_count": 26,
   "outputs": [
    {
     "name": "stdout",
     "output_type": "stream",
     "text": [
      "w: 200\n",
      "b: 100\n"
     ]
    }
   ],
   "source": [
    "#значения параметров графика\n",
    "w = 200\n",
    "b = 100\n",
    "print(f\"w: {w}\")\n",
    "print(f\"b: {b}\")"
   ],
   "metadata": {
    "collapsed": false,
    "ExecuteTime": {
     "end_time": "2023-08-11T18:38:03.831829Z",
     "start_time": "2023-08-11T18:38:03.831312Z"
    }
   }
  },
  {
   "cell_type": "markdown",
   "source": [
    "Now, let's compute the value of $f_{w,b}(x^{(i)})$ for your two data points. You can explicitly write this out for each data point as - считаем значение функции для наших точек\n",
    "\n",
    "for $x^{(0)}$, `f_wb = w * x[0] + b`\n",
    "\n",
    "for $x^{(1)}$, `f_wb = w * x[1] + b`\n",
    "\n",
    "For a large number of data points, this can get unwieldy and repetitive. So instead, you can calculate the function output in a `for` loop as shown in the `compute_model_output` function below.\n",
    "Для большого числа точек данных это может стать неудобным и повторяющимся. Вместо этого вы можете вычислить вывод функции в цикле for, как показано в функции compute_model_output ниже.\n",
    "> **Note**: The argument description `(ndarray (m,))` describes a Numpy n-dimensional array of shape (m,). `(scalar)` describes an argument without dimensions, just a magnitude.\n",
    "> Описание аргумента (ndarray (m,)) описывает Numpy n-мерный массив формы (m,). (scalar) описывает аргумент без размерности, только магнитуду.\n",
    "> **Note**: `np.zero(n)` will return a one-dimensional numpy array with $n$ entries\n",
    "Примечание: np.zero(n) вернет одномерный массив NumPy с $n$ записями."
   ],
   "metadata": {
    "collapsed": false
   }
  },
  {
   "cell_type": "code",
   "execution_count": 27,
   "outputs": [],
   "source": [
    "def compute_model_output(x, w, b):\n",
    "    \"\"\"\n",
    "    Computes the prediction of a linear model\n",
    "    Вычисляет предсказание линейной модели.\n",
    "    Args:\n",
    "      x (ndarray (m,)): Data, m examples - набор данных(одномерный массив)\n",
    "      w,b (scalar)    : model parameters - параметры(вес и свободный член)\n",
    "    Returns\n",
    "      f_wb (ndarray (m,)): model prediction - возвращает предикшн\n",
    "    \"\"\"\n",
    "    m = x.shape[0]#(кол-во данных что зашло)\n",
    "    f_wb = np.zeros(m) #создание массива нулей длинны m(тут храним предсказанияя)\n",
    "    for i in range(m):\n",
    "        #Для каждого индекса i, мы вычисляем предсказание модели, используя формулу линейной модели f_wb = wx + b, где w - вес, x[i] - размер дома для данного примера, и b - свободный член.\n",
    "        f_wb[i] = w * x[i] + b\n",
    "    return f_wb #возвращает массив предсказаний"
   ],
   "metadata": {
    "collapsed": false,
    "ExecuteTime": {
     "end_time": "2023-08-11T18:38:06.558561Z",
     "start_time": "2023-08-11T18:38:06.545003Z"
    }
   }
  },
  {
   "cell_type": "markdown",
   "source": [
    "Now let's call the `compute_model_output` function and plot the output.."
   ],
   "metadata": {
    "collapsed": false
   }
  },
  {
   "cell_type": "code",
   "execution_count": 28,
   "outputs": [
    {
     "data": {
      "text/plain": "<Figure size 640x480 with 1 Axes>",
      "image/png": "[encoded data removed]"
     },
     "metadata": {},
     "output_type": "display_data"
    }
   ],
   "source": [
    "tmp_f_wb = compute_model_output(x_train, w, b)\n",
    "\n",
    "# Plot our model prediction\n",
    "plt.plot(x_train, tmp_f_wb, c='b',label='Our Prediction')#цвет линии c =\n",
    "\n",
    "# Plot the data points\n",
    "plt.scatter(x_train, y_train, marker='x', c='r',label='Actual Values')#действительны значения\n",
    "\n",
    "# Set the title\n",
    "plt.title(\"Housing Prices\")\n",
    "# Set the y-axis label\n",
    "plt.ylabel('Price (in 1000s of dollars)')\n",
    "# Set the x-axis label\n",
    "plt.xlabel('Size (1000 sqft)')\n",
    "plt.legend()\n",
    "plt.show()"
   ],
   "metadata": {
    "collapsed": false,
    "ExecuteTime": {
     "end_time": "2023-08-11T18:38:08.292271Z",
     "start_time": "2023-08-11T18:38:08.174736Z"
    }
   }
  },
  {
   "cell_type": "markdown",
   "source": [
    "\n",
    "Как видите, установка $w = 200$ и $b = 100$  приводит к тому, чтобы линия соответствовала нашим данным.\n",
    "NICE\n",
    "Теперь, когда у нас есть модель, мы можем использовать ее для   прогноза. Давайте предскажем цену дома площадью 1200 квадратных футов. Поскольку единицы измерения 𝑥 находятся в тысячах квадратных футов, 𝑥 равно 1.2.\n",
    "\n",
    "\n",
    "\n",
    "\n",
    "\n"
   ],
   "metadata": {
    "collapsed": false
   }
  },
  {
   "cell_type": "code",
   "execution_count": 29,
   "outputs": [
    {
     "name": "stdout",
     "output_type": "stream",
     "text": [
      "$340 thousand dollars\n"
     ]
    }
   ],
   "source": [
    "w = 200\n",
    "b = 100\n",
    "x_i = 1.2 #1200 dollars\n",
    "cost_1200sqft = w * x_i + b\n",
    "\n",
    "print(f\"${cost_1200sqft:.0f} thousand dollars\")"
   ],
   "metadata": {
    "collapsed": false,
    "ExecuteTime": {
     "end_time": "2023-08-11T18:40:36.895615Z",
     "start_time": "2023-08-11T18:40:36.883630Z"
    }
   }
  },
  {
   "cell_type": "code",
   "execution_count": null,
   "outputs": [],
   "source": [],
   "metadata": {
    "collapsed": false
   }
  },
  {
   "cell_type": "markdown",
   "source": [
    "Поздравляю!\n",
    "На этой лабораторной работе вы узнали:\n",
    "\n",
    "1) Линейная регрессия строит модель, которая устанавливает связь между признаками и целями (целевыми значениями).\n",
    "В приведенном выше примере признаком была площадь дома, а целью - цена дома.\n",
    "2) Для простой линейной регрессии модель имеет два параметра 𝑤 и 𝑏, значения которых \"подгоняются\" с использованием обучающих данных.\n",
    "3) Как только параметры модели были определены, модель можно использовать для создания прогнозов на новых данных.\n",
    "\n",
    "Вы проделали отличную работу, понимая эти концепции!"
   ],
   "metadata": {
    "collapsed": false
   }
  },
  {
   "cell_type": "code",
   "execution_count": null,
   "outputs": [],
   "source": [],
   "metadata": {
    "collapsed": false
   }
  }
 ],
 "metadata": {
  "kernelspec": {
   "display_name": "Python 3",
   "language": "python",
   "name": "python3"
  },
  "language_info": {
   "codemirror_mode": {
    "name": "ipython",
    "version": 2
   },
   "file_extension": ".py",
   "mimetype": "text/x-python",
   "name": "python",
   "nbconvert_exporter": "python",
   "pygments_lexer": "ipython2",
   "version": "2.7.6"
  }
 },
 "nbformat": 4,
 "nbformat_minor": 0
}
